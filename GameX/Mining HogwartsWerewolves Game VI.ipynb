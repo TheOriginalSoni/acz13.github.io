import praw
import pandas as pd
import matplotlib.pyplot as plt
from lxml.html import fragment_fromstring
from html import unescape
import re
import json

p = re.compile("(\S+)")

def _wordcount(s):
    return(len(p.findall(s)))

def wc(html):
    tree = fragment_fromstring(unescape(html))
    words = tree.xpath('.//text()')
    return sum(map(_wordcount, words))

def plot(df, line, file, **kwargs):
    plt.figure()
    axes = df.plot.bar(**kwargs)
    for ax in axes.flatten():
        if line:
            ax.axhline(0, color="k")
        if ax.get_yscale() == "log":
            ax.set_yscale("log", basey=10, subsy=[2, 3, 4, 5, 6, 7, 8, 9])
    plt.tight_layout()
    plt.savefig(file)
    plt.close()

r = praw.Reddit("scanner", user_agent='scraper/0.1')

print("soni")

raw_roster = ['/u/a_sneaky_meerkat', '/u/awesomewow', '/u/BillBrasky', '/u/bttfforever', '/u/bubbasaurus', '/u/CapZapBrannigan', '/u/CauldronThief', '/u/coyotefacts', '/u/darthrobyn', '/u/dawnphoenix', '/u/Diggenwalde', '/u/Discoferry', '/u/emmach17', '/u/emsmale', '/u/erabel', '/u/FancyZombie5', '/u/findthesky', '/u/Flabbergasted_rhino', '/u/funkimon', '/u/HorrorpopZombie', '/u/Icetoa180', '/u/imaginarystudy', '/u/jilliefish', '/u/kabubum', '/u/kemistreekat', '/u/kingjaime_', '/u/littlebs8', '/u/LoneWolfOfTheCalla', '/u/manelski4', '/u/Mrrrrh', '/u/O0mimsy0o', '/u/PenguinJassy', '/u/Penultima', '/u/pezes', '/u/pizzabangle', '/u/Ravenclawmuggle', '/u/RavenoftheSands', '/u/rightypants', '/u/RissaJo685', '/u/Rysler', '/u/sharon-carter', '/u/spacedoutman', '/u/tana-ryu', '/u/TeacherTish', '/u/tinyporcelainehorses', '/u/-MrJ-', '/u/Apex--Redditer', '/u/annul', '/u/Chefjones', '/u/drippingalchemy', '/u/elbowsss', '/u/HermioneReynaChase', '/u/hpello', '/u/infinityxero', '/u/jarris123', '/u/jfinner1', '/u/Larixon', '/u/Lucygirl9-17', '/u/MacabreGoblin', '/u/megabanette', '/u/Miicle', '/u/NiteMary', '/u/oddfictionrambles', '/u/oomps62', '/u/planetjune', '/u/PM_ME_YOUR_BREAKFAST', '/u/qngff', '/u/ravenclawroxy', '/u/RD917', '/u/Ryan814', '/u/seanmik620', '/u/spludgiexx', '/u/suitelifeofem', '/u/TalkNerdyToMe20', '/u/theDUQofFRAT', '/u/Throwawayjust_incase', '/u/UlyNeves', '/u/victorcaet', '/u/WalrusPeon', '/u/Waygookin_saram']
roster = [i[3:].lower() for i in raw_roster]
